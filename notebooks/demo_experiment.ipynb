{
 "cells": [
  {
   "cell_type": "code",
   "execution_count": 1,
   "metadata": {},
   "outputs": [
    {
     "name": "stdout",
     "output_type": "stream",
     "text": [
      "CPU times: user 2.03 s, sys: 408 ms, total: 2.44 s\n",
      "Wall time: 1.57 s\n"
     ]
    }
   ],
   "source": [
    "%%time\n",
    "%reload_ext autoreload\n",
    "%autoreload\n",
    "%autoreload 2\n",
    "%config Completer.use_jedi = False\n",
    "\n",
    "import os\n",
    "import json\n",
    "import warnings\n",
    "import pprint\n",
    "import sys\n",
    "import numpy as np\n",
    "import pandas as pd\n",
    "import torch\n",
    "\n",
    "MAIN_PATH = os.getcwd().split(\"notebooks\")[0]\n",
    "sys.path.insert(0, MAIN_PATH)"
   ]
  },
  {
   "cell_type": "code",
   "execution_count": 2,
   "metadata": {},
   "outputs": [],
   "source": [
    "# Run a Federated Learning experiment\n",
    "from data_loader.mnist import MnistDatasetManager\n",
    "from models.mnist_model import MnistFullConnectModel, SimpleCNN\n",
    "from server.base_server import BaseServer\n",
    "from client.base_client import BaseClient\n",
    "from experiments.base_experiment import BaseExperiment\n",
    "from gradients.noise import GaussianNoiseGenerator, NoNoiseGenerator,StaircaseNoiseGenerator\n",
    "from metrics.classification import multiclass_accuracy"
   ]
  },
  {
   "cell_type": "code",
   "execution_count": 5,
   "metadata": {},
   "outputs": [],
   "source": [
    "class DemoMnistExperiment(BaseExperiment):\n",
    "    def __init__(self, client_num: int =2):\n",
    "        self._init_server_clients(client_num)\n",
    "        self._init_data(client_num)\n",
    "\n",
    "    \n",
    "    def _init_server_clients(self, client_num):\n",
    "        model = SimpleCNN\n",
    "        self.clients = [BaseClient(model(), \n",
    "                                   client_id=idx, \n",
    "                                   noise_generator=StaircaseNoiseGenerator())\n",
    "                        for idx in range(client_num)]\n",
    "        self.server = BaseServer(model())\n",
    "\n",
    "    def _init_data(self, client_num):\n",
    "        data_manager = MnistDatasetManager(n_parties=client_num)\n",
    "        self.client_train_datas = data_manager.train_loaders\n",
    "        self.valid_datas = data_manager.validation_loader\n",
    "        self.test_data = data_manager.test_loader\n",
    "\n",
    "    def evaluate_model(self, data):\n",
    "        total_correct = 0\n",
    "        total_sample_num = 0\n",
    "        with torch.no_grad():\n",
    "            for _, (inputs, target) in enumerate(data):\n",
    "                predict_labels = self.server.predict(inputs)\n",
    "                correct, sample_num = multiclass_accuracy(y_pred=predict_labels, \n",
    "                                                          y_true=target)\n",
    "                total_correct += correct\n",
    "                total_sample_num += sample_num\n",
    "                \n",
    "        return total_correct / total_sample_num\n",
    "        \n",
    "    def get_validation_result(self):\n",
    "        return self.evaluate_model(self.valid_datas)\n",
    "    \n",
    "    def get_test_result(self):\n",
    "        return self.evaluate_model(self.test_data)\n",
    "    \n",
    "    def aggeragate(self):\n",
    "        self.server.aggeragate_model(self.clients)\n",
    "    \n",
    "    def run(self, epochs: int):\n",
    "        for client in self.clients:\n",
    "            client.set_training_mode(for_gradient=False)\n",
    "\n",
    "        for epoch in range(epochs):\n",
    "            print(self.get_validation_result())\n",
    "            for client, client_train_data in self.shuffled_data(to_shuffle=False):\n",
    "                client.train(client_train_data)\n",
    "\n",
    "            self.aggeragate()\n",
    "            if epoch and not (epoch % 1):\n",
    "                print(self.get_validation_result())\n",
    "\n",
    "            self.distribute_model()\n"
   ]
  },
  {
   "cell_type": "code",
   "execution_count": 6,
   "metadata": {},
   "outputs": [
    {
     "name": "stdout",
     "output_type": "stream",
     "text": [
      "Downloading http://yann.lecun.com/exdb/mnist/train-images-idx3-ubyte.gz\n"
     ]
    },
    {
     "name": "stderr",
     "output_type": "stream",
     "text": [
      "1.0%"
     ]
    },
    {
     "name": "stdout",
     "output_type": "stream",
     "text": [
      "Downloading http://yann.lecun.com/exdb/mnist/train-images-idx3-ubyte.gz to /Users/shuyafeng/IdeaProjects/DifferentialPrivacy/datasets/MNIST/raw/train-images-idx3-ubyte.gz\n"
     ]
    },
    {
     "name": "stderr",
     "output_type": "stream",
     "text": [
      "100.0%\n"
     ]
    },
    {
     "name": "stdout",
     "output_type": "stream",
     "text": [
      "Extracting /Users/shuyafeng/IdeaProjects/DifferentialPrivacy/datasets/MNIST/raw/train-images-idx3-ubyte.gz to /Users/shuyafeng/IdeaProjects/DifferentialPrivacy/datasets/MNIST/raw\n",
      "\n",
      "Downloading http://yann.lecun.com/exdb/mnist/train-labels-idx1-ubyte.gz\n",
      "Downloading http://yann.lecun.com/exdb/mnist/train-labels-idx1-ubyte.gz to /Users/shuyafeng/IdeaProjects/DifferentialPrivacy/datasets/MNIST/raw/train-labels-idx1-ubyte.gz\n"
     ]
    },
    {
     "name": "stderr",
     "output_type": "stream",
     "text": [
      "100.0%\n"
     ]
    },
    {
     "name": "stdout",
     "output_type": "stream",
     "text": [
      "Extracting /Users/shuyafeng/IdeaProjects/DifferentialPrivacy/datasets/MNIST/raw/train-labels-idx1-ubyte.gz to /Users/shuyafeng/IdeaProjects/DifferentialPrivacy/datasets/MNIST/raw\n",
      "\n",
      "Downloading http://yann.lecun.com/exdb/mnist/t10k-images-idx3-ubyte.gz\n",
      "Downloading http://yann.lecun.com/exdb/mnist/t10k-images-idx3-ubyte.gz to /Users/shuyafeng/IdeaProjects/DifferentialPrivacy/datasets/MNIST/raw/t10k-images-idx3-ubyte.gz\n"
     ]
    },
    {
     "name": "stderr",
     "output_type": "stream",
     "text": [
      "100.0%\n"
     ]
    },
    {
     "name": "stdout",
     "output_type": "stream",
     "text": [
      "Extracting /Users/shuyafeng/IdeaProjects/DifferentialPrivacy/datasets/MNIST/raw/t10k-images-idx3-ubyte.gz to /Users/shuyafeng/IdeaProjects/DifferentialPrivacy/datasets/MNIST/raw\n",
      "\n",
      "Downloading http://yann.lecun.com/exdb/mnist/t10k-labels-idx1-ubyte.gz\n"
     ]
    },
    {
     "name": "stderr",
     "output_type": "stream",
     "text": [
      "100.0%"
     ]
    },
    {
     "name": "stdout",
     "output_type": "stream",
     "text": [
      "Downloading http://yann.lecun.com/exdb/mnist/t10k-labels-idx1-ubyte.gz to /Users/shuyafeng/IdeaProjects/DifferentialPrivacy/datasets/MNIST/raw/t10k-labels-idx1-ubyte.gz\n",
      "Extracting /Users/shuyafeng/IdeaProjects/DifferentialPrivacy/datasets/MNIST/raw/t10k-labels-idx1-ubyte.gz to /Users/shuyafeng/IdeaProjects/DifferentialPrivacy/datasets/MNIST/raw\n",
      "\n"
     ]
    },
    {
     "name": "stderr",
     "output_type": "stream",
     "text": [
      "\n"
     ]
    }
   ],
   "source": [
    "EXPERIMENT = DemoMnistExperiment(client_num=10)"
   ]
  },
  {
   "cell_type": "code",
   "execution_count": 7,
   "metadata": {},
   "outputs": [
    {
     "name": "stdout",
     "output_type": "stream",
     "text": [
      "python not found\n"
     ]
    }
   ],
   "source": [
    "!which python"
   ]
  },
  {
   "cell_type": "code",
   "execution_count": 13,
   "metadata": {},
   "outputs": [
    {
     "name": "stdout",
     "output_type": "stream",
     "text": [
      "0.06508333333333334\n",
      "0.18666666666666668\n",
      "0.8991666666666667\n",
      "0.8991666666666667\n",
      "0.9379166666666666\n",
      "0.9379166666666666\n",
      "0.9553333333333334\n",
      "0.9553333333333334\n",
      "0.9644166666666667\n",
      "0.9644166666666667\n",
      "0.9688333333333333\n",
      "0.9688333333333333\n",
      "0.974\n",
      "0.974\n",
      "0.9775833333333334\n",
      "0.9775833333333334\n",
      "0.9786666666666667\n",
      "0.9786666666666667\n",
      "0.9815833333333334\n"
     ]
    }
   ],
   "source": [
    "EXPERIMENT.run(10)"
   ]
  },
  {
   "cell_type": "code",
   "execution_count": null,
   "metadata": {},
   "outputs": [],
   "source": []
  }
 ],
 "metadata": {
  "kernelspec": {
   "display_name": "Python 3",
   "language": "python",
   "name": "python3"
  },
  "language_info": {
   "codemirror_mode": {
    "name": "ipython",
    "version": 3
   },
   "file_extension": ".py",
   "mimetype": "text/x-python",
   "name": "python",
   "nbconvert_exporter": "python",
   "pygments_lexer": "ipython3",
   "version": "3.8.7"
  },
  "orig_nbformat": 4,
  "vscode": {
   "interpreter": {
    "hash": "aee8b7b246df8f9039afb4144a1f6fd8d2ca17a180786b69acc140d282b71a49"
   }
  }
 },
 "nbformat": 4,
 "nbformat_minor": 2
}
