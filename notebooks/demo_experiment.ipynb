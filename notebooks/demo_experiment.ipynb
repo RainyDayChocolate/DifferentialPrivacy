{
 "cells": [
  {
   "cell_type": "code",
   "execution_count": 1,
   "metadata": {},
   "outputs": [
    {
     "name": "stdout",
     "output_type": "stream",
     "text": [
      "CPU times: user 2.26 s, sys: 532 ms, total: 2.79 s\n",
      "Wall time: 2.45 s\n"
     ]
    }
   ],
   "source": [
    "%%time\n",
    "%reload_ext autoreload\n",
    "%autoreload\n",
    "%autoreload 2\n",
    "%config Completer.use_jedi = False\n",
    "\n",
    "import os\n",
    "import json\n",
    "import warnings\n",
    "import pprint\n",
    "import sys\n",
    "import numpy as np\n",
    "import pandas as pd\n",
    "import torch\n",
    "\n",
    "MAIN_PATH = os.getcwd().split(\"notebooks\")[0]\n",
    "sys.path.insert(0, MAIN_PATH)"
   ]
  },
  {
   "cell_type": "code",
   "execution_count": 2,
   "metadata": {},
   "outputs": [],
   "source": [
    "# Run a Federated Learning experiment\n",
    "from data_loader.mnist import MnistDatasetManager\n",
    "from models.mnist_model import MnistFullConnectModel\n",
    "from server.base_server import BaseServer\n",
    "from client.base_client import BaseClient\n",
    "from experiments.base_experiment import BaseExperiment\n",
    "from gradients.noise import GaussianNoiseGenerator\n",
    "from metrics.classification import multiclass_accuracy"
   ]
  },
  {
   "cell_type": "code",
   "execution_count": 3,
   "metadata": {},
   "outputs": [],
   "source": [
    "DATA_MANAGER = MnistDatasetManager(n_parties=2)\n"
   ]
  },
  {
   "cell_type": "code",
   "execution_count": 4,
   "metadata": {},
   "outputs": [],
   "source": [
    "class DemoMnistExperiment(BaseExperiment):\n",
    "    def __init__(self, client_num: int =2):\n",
    "        self._init_server_clients(client_num)\n",
    "        self._init_data(client_num)\n",
    "    \n",
    "    def _init_server_clients(self, client_num):\n",
    "        model = MnistFullConnectModel\n",
    "        self.clients = [BaseClient(model(), \n",
    "                                   client_id=idx, \n",
    "                                   noise_generator=GaussianNoiseGenerator())\n",
    "                        for idx in range(client_num)]\n",
    "        self.server = BaseServer(model())\n",
    "\n",
    "    def _init_data(self, client_num):\n",
    "        data_manager = MnistDatasetManager(n_parties=client_num)\n",
    "        self.client_train_datas = data_manager.train_loaders\n",
    "        self.valid_datas = data_manager.validation_loader\n",
    "        self.test_data = data_manager.test_loader\n",
    "\n",
    "    def evaluate_model(self, data):\n",
    "        total_correct = 0\n",
    "        total_sample_num = 0\n",
    "        with torch.no_grad():\n",
    "            for _, (inputs, target) in enumerate(data):\n",
    "                predict_labels = self.server.predict(inputs)\n",
    "                correct, sample_num = multiclass_accuracy(predict_labels, \n",
    "                                                          target)\n",
    "                total_correct += correct\n",
    "                total_sample_num += sample_num\n",
    "                \n",
    "        return total_correct / total_sample_num\n",
    "        \n",
    "    def get_validation_result(self):\n",
    "        return self.evaluate_model(self.valid_datas)\n",
    "    \n",
    "    def get_test_result(self):\n",
    "        return self.evaluate_model(self.test_data)\n",
    "    \n",
    "    def aggeragate(self):\n",
    "        for client in self.clients:\n",
    "            client.set_training_mode(for_gradient=False)\n",
    "        self.server.aggeragate_model(self.clients)"
   ]
  },
  {
   "cell_type": "code",
   "execution_count": 5,
   "metadata": {},
   "outputs": [],
   "source": [
    "EXPERIMENT = DemoMnistExperiment(client_num=2)"
   ]
  },
  {
   "cell_type": "code",
   "execution_count": 7,
   "metadata": {},
   "outputs": [
    {
     "ename": "IndexError",
     "evalue": "Dimension out of range (expected to be in range of [-1, 0], but got 1)",
     "output_type": "error",
     "traceback": [
      "\u001b[0;31m---------------------------------------------------------------------------\u001b[0m",
      "\u001b[0;31mIndexError\u001b[0m                                Traceback (most recent call last)",
      "Cell \u001b[0;32mIn[7], line 1\u001b[0m\n\u001b[0;32m----> 1\u001b[0m EXPERIMENT\u001b[39m.\u001b[39;49mrun(epochs\u001b[39m=\u001b[39;49m\u001b[39m10\u001b[39;49m)\n",
      "File \u001b[0;32m~/DifferentialPrivacy/experiments/base_experiment.py:42\u001b[0m, in \u001b[0;36mBaseExperiment.run\u001b[0;34m(self, epochs)\u001b[0m\n\u001b[1;32m     40\u001b[0m \u001b[39mself\u001b[39m\u001b[39m.\u001b[39maggeragate()\n\u001b[1;32m     41\u001b[0m \u001b[39mif\u001b[39;00m epoch \u001b[39mand\u001b[39;00m \u001b[39mnot\u001b[39;00m (epoch \u001b[39m%\u001b[39m \u001b[39m3\u001b[39m):\n\u001b[0;32m---> 42\u001b[0m     \u001b[39mprint\u001b[39m(\u001b[39mself\u001b[39;49m\u001b[39m.\u001b[39;49mget_validation_result())\n\u001b[1;32m     44\u001b[0m \u001b[39mself\u001b[39m\u001b[39m.\u001b[39mdistribute_model()\n",
      "Cell \u001b[0;32mIn[4], line 34\u001b[0m, in \u001b[0;36mDemoMnistExperiment.get_validation_result\u001b[0;34m(self)\u001b[0m\n\u001b[1;32m     33\u001b[0m \u001b[39mdef\u001b[39;00m \u001b[39mget_validation_result\u001b[39m(\u001b[39mself\u001b[39m):\n\u001b[0;32m---> 34\u001b[0m     \u001b[39mreturn\u001b[39;00m \u001b[39mself\u001b[39;49m\u001b[39m.\u001b[39;49mevaluate_model(\u001b[39mself\u001b[39;49m\u001b[39m.\u001b[39;49mvalid_datas)\n",
      "Cell \u001b[0;32mIn[4], line 26\u001b[0m, in \u001b[0;36mDemoMnistExperiment.evaluate_model\u001b[0;34m(self, data)\u001b[0m\n\u001b[1;32m     24\u001b[0m \u001b[39mfor\u001b[39;00m _, (inputs, target) \u001b[39min\u001b[39;00m \u001b[39menumerate\u001b[39m(data):\n\u001b[1;32m     25\u001b[0m     predict_labels \u001b[39m=\u001b[39m \u001b[39mself\u001b[39m\u001b[39m.\u001b[39mserver\u001b[39m.\u001b[39mpredict(inputs)\n\u001b[0;32m---> 26\u001b[0m     correct, sample_num \u001b[39m=\u001b[39m multiclass_accuracy(predict_labels, \n\u001b[1;32m     27\u001b[0m                                               target)\n\u001b[1;32m     28\u001b[0m     total_correct \u001b[39m+\u001b[39m\u001b[39m=\u001b[39m correct\n\u001b[1;32m     29\u001b[0m     total_sample_num \u001b[39m+\u001b[39m\u001b[39m=\u001b[39m sample_num\n",
      "File \u001b[0;32m~/DifferentialPrivacy/metrics/classification.py:34\u001b[0m, in \u001b[0;36mmulticlass_accuracy\u001b[0;34m(y_true, y_pred)\u001b[0m\n\u001b[1;32m     14\u001b[0m \u001b[39mdef\u001b[39;00m \u001b[39mmulticlass_accuracy\u001b[39m(y_true: torch\u001b[39m.\u001b[39mTensor, y_pred: torch\u001b[39m.\u001b[39mTensor):\n\u001b[1;32m     15\u001b[0m \u001b[39m    \u001b[39m\u001b[39m\"\"\"_summary_\u001b[39;00m\n\u001b[1;32m     16\u001b[0m \n\u001b[1;32m     17\u001b[0m \u001b[39m    Args:\u001b[39;00m\n\u001b[0;32m   (...)\u001b[0m\n\u001b[1;32m     32\u001b[0m \u001b[39m        _type_: _description_\u001b[39;00m\n\u001b[1;32m     33\u001b[0m \u001b[39m    \"\"\"\u001b[39;00m\n\u001b[0;32m---> 34\u001b[0m     _, predicted \u001b[39m=\u001b[39m torch\u001b[39m.\u001b[39;49mmax(y_pred, \u001b[39m1\u001b[39;49m)\n\u001b[1;32m     35\u001b[0m     total \u001b[39m=\u001b[39m y_true\u001b[39m.\u001b[39msize(\u001b[39m0\u001b[39m)\n\u001b[1;32m     36\u001b[0m     correct \u001b[39m=\u001b[39m (predicted \u001b[39m==\u001b[39m y_true)\u001b[39m.\u001b[39msum()\u001b[39m.\u001b[39mitem()\n",
      "\u001b[0;31mIndexError\u001b[0m: Dimension out of range (expected to be in range of [-1, 0], but got 1)"
     ]
    }
   ],
   "source": [
    "EXPERIMENT.run(epochs=10)"
   ]
  },
  {
   "cell_type": "code",
   "execution_count": null,
   "metadata": {},
   "outputs": [],
   "source": []
  }
 ],
 "metadata": {
  "kernelspec": {
   "display_name": "py38",
   "language": "python",
   "name": "python3"
  },
  "language_info": {
   "codemirror_mode": {
    "name": "ipython",
    "version": 3
   },
   "file_extension": ".py",
   "mimetype": "text/x-python",
   "name": "python",
   "nbconvert_exporter": "python",
   "pygments_lexer": "ipython3",
   "version": "3.8.11"
  },
  "orig_nbformat": 4
 },
 "nbformat": 4,
 "nbformat_minor": 2
}
