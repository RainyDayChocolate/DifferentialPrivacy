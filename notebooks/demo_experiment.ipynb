{
 "cells": [
  {
   "cell_type": "code",
   "execution_count": null,
   "metadata": {},
   "outputs": [],
   "source": [
    "%%time\n",
    "%reload_ext autoreload\n",
    "%autoreload\n",
    "%autoreload 2\n",
    "%config Completer.use_jedi = False\n",
    "\n",
    "import os\n",
    "import json\n",
    "import warnings\n",
    "import pprint\n",
    "import sys\n",
    "import numpy as np\n",
    "import pandas as pd\n",
    "import torch\n",
    "\n",
    "MAIN_PATH = os.getcwd().split(\"notebooks\")[0]\n",
    "sys.path.insert(0, MAIN_PATH)"
   ]
  },
  {
   "cell_type": "code",
   "execution_count": null,
   "metadata": {},
   "outputs": [],
   "source": [
    "# Run a Federated Learning experiment\n",
    "from data_loader.mnist import MnistDatasetManager\n",
    "from models.mnist_model import MnistFullConnectModel, SimpleCNN\n",
    "from server.base_server import BaseServer\n",
    "from client.base_client import BaseClient\n",
    "from experiments.base_experiment import BaseExperiment\n",
    "from gradients.noise import GaussianNoiseGenerator, NoNoiseGenerator\n",
    "from metrics.classification import multiclass_accuracy"
   ]
  },
  {
   "cell_type": "code",
   "execution_count": null,
   "metadata": {},
   "outputs": [],
   "source": [
    "class DemoMnistExperiment(BaseExperiment):\n",
    "    def __init__(self, client_num: int =2):\n",
    "        self._init_server_clients(client_num)\n",
    "        self._init_data(client_num)\n",
    "    \n",
    "    def _init_server_clients(self, client_num):\n",
    "        model = SimpleCNN\n",
    "        self.clients = [BaseClient(model(), \n",
    "                                   client_id=idx, \n",
    "                                   noise_generator=NoNoiseGenerator())\n",
    "                        for idx in range(client_num)]\n",
    "        self.server = BaseServer(model())\n",
    "\n",
    "    def _init_data(self, client_num):\n",
    "        data_manager = MnistDatasetManager(n_parties=client_num)\n",
    "        self.client_train_datas = data_manager.train_loaders\n",
    "        self.valid_datas = data_manager.validation_loader\n",
    "        self.test_data = data_manager.test_loader\n",
    "\n",
    "    def evaluate_model(self, data):\n",
    "        total_correct = 0\n",
    "        total_sample_num = 0\n",
    "        with torch.no_grad():\n",
    "            for _, (inputs, target) in enumerate(data):\n",
    "                predict_labels = self.server.predict(inputs)\n",
    "                correct, sample_num = multiclass_accuracy(y_pred=predict_labels, \n",
    "                                                          y_true=target)\n",
    "                total_correct += correct\n",
    "                total_sample_num += sample_num\n",
    "                \n",
    "        return total_correct / total_sample_num\n",
    "        \n",
    "    def get_validation_result(self):\n",
    "        return self.evaluate_model(self.valid_datas)\n",
    "    \n",
    "    def get_test_result(self):\n",
    "        return self.evaluate_model(self.test_data)\n",
    "    \n",
    "    def aggeragate(self):\n",
    "        self.server.aggeragate_model(self.clients)\n",
    "    \n",
    "    def run(self, epochs: int):\n",
    "        for client in self.clients:\n",
    "            client.set_training_mode(for_gradient=False)\n",
    "\n",
    "        for epoch in range(epochs):\n",
    "            print(self.get_validation_result())\n",
    "            for client, client_train_data in zip(self.clients,\n",
    "                                                 self.client_train_datas):\n",
    "                client.train(client_train_data)\n",
    "\n",
    "            self.aggeragate()\n",
    "            if epoch and not (epoch % 1):\n",
    "                print(self.get_validation_result())\n",
    "\n",
    "            #self.distribute_model()\n"
   ]
  },
  {
   "cell_type": "code",
   "execution_count": null,
   "metadata": {},
   "outputs": [],
   "source": [
    "EXPERIMENT = DemoMnistExperiment(client_num=2)"
   ]
  },
  {
   "cell_type": "code",
   "execution_count": null,
   "metadata": {},
   "outputs": [],
   "source": [
    "EXPERIMENT.run(10)"
   ]
  }
 ],
 "metadata": {
  "kernelspec": {
   "display_name": "py38",
   "language": "python",
   "name": "python3"
  },
  "language_info": {
   "codemirror_mode": {
    "name": "ipython",
    "version": 3
   },
   "file_extension": ".py",
   "mimetype": "text/x-python",
   "name": "python",
   "nbconvert_exporter": "python",
   "pygments_lexer": "ipython3",
   "version": "3.8.11"
  },
  "orig_nbformat": 4
 },
 "nbformat": 4,
 "nbformat_minor": 2
}
