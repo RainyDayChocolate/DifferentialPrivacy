{
 "cells": [
  {
   "cell_type": "code",
   "execution_count": null,
   "metadata": {},
   "outputs": [],
   "source": [
    "import torch \n",
    "\n",
    "from experiments.base_experiment import BaseFedAvgExperiment, BaseFedSGDExperiment\n",
    "from client.base_client import BaseClient\n",
    "from server.base_server import BaseServer\n",
    "from models.demo_model import DemoModel\n",
    "\n",
    "\n",
    "def pipeline():\n",
    "    # Create a model\n",
    "    model = DemoModel()\n",
    "    # Create a server\n",
    "    server = BaseServer(model=model, clients=[])\n",
    "    # Create a client\n",
    "    client = BaseClient(model=model, \n",
    "                        loss_fn=torch.nn.CrossEntropyLoss(), \n",
    "                        optimizer=torch.optim.SGD(model.parameters(), lr=0.01),\n",
    "                        dataset=None)\n",
    "    # Create a FedAvg experiment\n",
    "    fedavg_exp = BaseFedAvgExperiment(clients=[client], server=server)\n",
    "    # Run FedAvg experiment\n",
    "    fedavg_exp.run(epochs=10)\n",
    "    # Create a FedSGD experiment\n",
    "    fedsdg_exp = BaseFedSGDExperiment(clients=[client], server=server)\n",
    "    # Run FedSGD experiment\n",
    "    fedsdg_exp.run(epochs=10) "
   ]
  }
 ],
 "metadata": {
  "kernelspec": {
   "display_name": "py38",
   "language": "python",
   "name": "python3"
  },
  "language_info": {
   "codemirror_mode": {
    "name": "ipython",
    "version": 3
   },
   "file_extension": ".py",
   "mimetype": "text/x-python",
   "name": "python",
   "nbconvert_exporter": "python",
   "pygments_lexer": "ipython3",
   "version": "3.8.11"
  },
  "orig_nbformat": 4
 },
 "nbformat": 4,
 "nbformat_minor": 2
}
